{
 "cells": [
  {
   "cell_type": "code",
   "execution_count": 6,
   "metadata": {},
   "outputs": [
    {
     "name": "stdout",
     "output_type": "stream",
     "text": [
      "6\n"
     ]
    }
   ],
   "source": [
    "def Linear_Search_for(arr,Search):\n",
    "    n = len(arr)\n",
    "    for i in range(n):\n",
    "        if (arr[i] == item):\n",
    "            return i\n",
    "    return -1\n",
    "\n",
    "if __name__ == \"__main__\":\n",
    "    arr = [18,45,36,25,41,87,94,35,24]\n",
    "    item = 94\n",
    "    print(Linear_Search_for(arr,item))"
   ]
  },
  {
   "cell_type": "code",
   "execution_count": 8,
   "metadata": {},
   "outputs": [
    {
     "name": "stdout",
     "output_type": "stream",
     "text": [
      "5\n"
     ]
    }
   ],
   "source": [
    "def Linear_Search_while(arr,Search):\n",
    "    n = len(arr)\n",
    "    i = 0\n",
    "    while (i < n):\n",
    "        i += 1\n",
    "        if (arr[i] == item):\n",
    "            return i\n",
    "    return -1\n",
    "\n",
    "\n",
    "if __name__ == \"__main__\":\n",
    "    arr = [18,45,36,25,41,87,94,35,24]\n",
    "    item = 87\n",
    "    print(Linear_Search_while(arr,item))"
   ]
  },
  {
   "cell_type": "code",
   "execution_count": 13,
   "metadata": {},
   "outputs": [
    {
     "name": "stdout",
     "output_type": "stream",
     "text": [
      "(0, 'elements are not found', 8)\n"
     ]
    }
   ],
   "source": [
    "def Linear_Search_found(arr,search):\n",
    "    found = 0\n",
    "    i = 0\n",
    "    while (i < len(arr)-1):\n",
    "        i += 1\n",
    "        if (arr[i] == search):\n",
    "            found += 1\n",
    "            break\n",
    "    if (found == 1):\n",
    "        return (found,\"elments are found\",i)\n",
    "    else:\n",
    "        return (found,\"elements are not found\",i)\n",
    "\n",
    "\n",
    "\n",
    "if __name__ == \"__main__\":\n",
    "    arr = [18,45,36,25,41,87,94,35,24]\n",
    "    item = 98\n",
    "    print(Linear_Search_found(arr,item))"
   ]
  },
  {
   "cell_type": "code",
   "execution_count": 84,
   "metadata": {},
   "outputs": [
    {
     "name": "stdout",
     "output_type": "stream",
     "text": [
      "99 elements is found 8\n",
      "None\n"
     ]
    }
   ],
   "source": [
    "def Sentinal_Linear_Search(arr,item):\n",
    "    n = len(arr)\n",
    "    Last_element = n - 1\n",
    "    arr[n-1] = item\n",
    "    i = 0\n",
    "    while (arr [i] != item):\n",
    "        i += 1\n",
    "    Last_element = arr[n-1]\n",
    "    if (i < n - 1) or (arr[n-1] == item):\n",
    "        print(item , \"elements is found\",i)\n",
    "    else:\n",
    "        print(\"No\")\n",
    "    \n",
    "if __name__ == \"__main__\":\n",
    "    arr = [18,45,36,25,41,87,94,35,24]\n",
    "    item = 99\n",
    "    print(Sentinal_Linear_Search(arr,item))"
   ]
  },
  {
   "cell_type": "code",
   "execution_count": 82,
   "metadata": {},
   "outputs": [
    {
     "name": "stdout",
     "output_type": "stream",
     "text": [
      "(35, 'item is found ', 7)\n"
     ]
    }
   ],
   "source": [
    "def Sentinal_Linear_for(arr,item):\n",
    "    n = len(arr)\n",
    "    Last_element = arr[n-1]\n",
    "    arr[n - 1] = item\n",
    "    j = 0\n",
    "    for i in range(j, n):\n",
    "        if (arr[i] != item):\n",
    "            j += 1\n",
    "    arr[n - 1] = Last_element\n",
    "    if (j < n - 1) or (arr[n-1] == item):\n",
    "        return (item,\"item is found \",j)\n",
    "    return -1\n",
    "    \n",
    "if __name__ == \"__main__\":\n",
    "    arr = [18,45,36,25,41,87,94,35,24]\n",
    "    item = 35\n",
    "    print(Sentinal_Linear_for(arr,item))\n",
    "        "
   ]
  },
  {
   "cell_type": "code",
   "execution_count": 1,
   "metadata": {},
   "outputs": [
    {
     "name": "stdout",
     "output_type": "stream",
     "text": [
      "9\n"
     ]
    }
   ],
   "source": [
    "def Linear_search(arr,size,item):\n",
    "    if (size == 0):\n",
    "        return -1\n",
    "    elif (arr[size- 1] == item):\n",
    "        return size -1\n",
    "    return Linear_search(arr,size-1,item)\n",
    "\n",
    "\n",
    "if __name__ == \"__main__\":\n",
    "    arr = [18,45,36,81,98,65,24,35,12,84,72,96]\n",
    "    item = 84\n",
    "    size = len(arr)\n",
    "    print(Linear_search(arr,size,item))"
   ]
  },
  {
   "cell_type": "code",
   "execution_count": 8,
   "metadata": {},
   "outputs": [
    {
     "name": "stdout",
     "output_type": "stream",
     "text": [
      "-1\n"
     ]
    }
   ],
   "source": [
    "def Binary_search(arr,item):\n",
    "    low = 0\n",
    "    high = len(arr) - 1\n",
    "    while (low < high):\n",
    "        mid = (low + high) // 2\n",
    "        if arr[mid] == item:\n",
    "            return mid\n",
    "        elif (arr[mid] < item):\n",
    "            low = mid + 1\n",
    "        else:\n",
    "            high = mid - 1\n",
    "    return -1\n",
    "\n",
    "if __name__ == \"__main__\":\n",
    "    arr = [18,45,36,81,98,65,24,35,12,84,72,96]\n",
    "    item = 81\n",
    "    print(Binary_search(arr,item))"
   ]
  },
  {
   "cell_type": "code",
   "execution_count": 6,
   "metadata": {},
   "outputs": [
    {
     "name": "stdout",
     "output_type": "stream",
     "text": [
      "-1\n"
     ]
    }
   ],
   "source": [
    "def Binary_search_for(arr,item):\n",
    "    n = len(arr)\n",
    "    low = 0\n",
    "    high = n\n",
    "    for i in range(low , high):\n",
    "        mid = (low + high) // 2\n",
    "        if arr[mid] == item:\n",
    "            return mid\n",
    "        elif (arr[mid] > item):\n",
    "            low = mid + 1\n",
    "        else:\n",
    "            high = mid - 1\n",
    "    return -1\n",
    "\n",
    "if __name__ == \"__main__\":\n",
    "    arr = [18,45,36,81,98,65,24,35,12,84,72,96]\n",
    "    item = 72\n",
    "    print(Binary_search_for(arr,item))\n"
   ]
  },
  {
   "cell_type": "code",
   "execution_count": null,
   "metadata": {},
   "outputs": [],
   "source": []
  }
 ],
 "metadata": {
  "kernelspec": {
   "display_name": "base",
   "language": "python",
   "name": "python3"
  },
  "language_info": {
   "codemirror_mode": {
    "name": "ipython",
    "version": 3
   },
   "file_extension": ".py",
   "mimetype": "text/x-python",
   "name": "python",
   "nbconvert_exporter": "python",
   "pygments_lexer": "ipython3",
   "version": "3.10.9"
  },
  "orig_nbformat": 4
 },
 "nbformat": 4,
 "nbformat_minor": 2
}
