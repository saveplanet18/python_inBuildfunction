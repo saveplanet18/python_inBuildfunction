{
 "cells": [
  {
   "cell_type": "code",
   "execution_count": 14,
   "metadata": {},
   "outputs": [
    {
     "data": {
      "text/plain": [
       "9"
      ]
     },
     "execution_count": 14,
     "metadata": {},
     "output_type": "execute_result"
    }
   ],
   "source": [
    "Mylist = [18,45,36,81,24,36,9,3,6]\n",
    "def Without_Len_function(Mylist):\n",
    "    Count = 0\n",
    "    for i in range(len(Mylist)):\n",
    "        Count += 1\n",
    "    return Count\n",
    "\n",
    "Without_Len_function(Mylist)\n",
    "\n",
    "def Without_len_while(Mylist):\n",
    "    i = 0\n",
    "    Count = 0\n",
    "    while (i < len(Mylist)):\n",
    "        Count += 1\n",
    "        i += 1\n",
    "    return Count\n",
    "\n",
    "Without_len_while(Mylist)\n",
    "\n",
    "\n",
    "def Len_function(Mylist):\n",
    "    return len(Mylist)\n",
    "\n",
    "\n",
    "Len_function(Mylist)"
   ]
  },
  {
   "cell_type": "code",
   "execution_count": 8,
   "metadata": {},
   "outputs": [
    {
     "data": {
      "text/plain": [
       "[3, 6, 9, 18, 24, 36, 36, 45, 81]"
      ]
     },
     "execution_count": 8,
     "metadata": {},
     "output_type": "execute_result"
    }
   ],
   "source": [
    "def Without_sort_function(Mylist):\n",
    "    N = len(Mylist)\n",
    "    for i in range(N):\n",
    "        for j in range(N-i-1):\n",
    "            if Mylist[j] > Mylist[j+1]:\n",
    "                Temp = Mylist[j]\n",
    "                Mylist[j] = Mylist[j+1]\n",
    "                Mylist[j+1] = Temp\n",
    "\n",
    "    return Mylist\n",
    "\n",
    "Without_sort_function(Mylist)\n",
    "\n",
    "\n",
    "def sorted_function(Mylist):\n",
    "    return sorted(Mylist)\n",
    "\n",
    "sorted_function(Mylist)"
   ]
  },
  {
   "cell_type": "code",
   "execution_count": 20,
   "metadata": {},
   "outputs": [
    {
     "data": {
      "text/plain": [
       "81"
      ]
     },
     "execution_count": 20,
     "metadata": {},
     "output_type": "execute_result"
    }
   ],
   "source": [
    "def Without_Maximum_function(Mylist):\n",
    "    higest = 0\n",
    "    for i in range(len(Mylist)):\n",
    "        if Mylist[i] > Mylist[higest]:\n",
    "            Mylist[higest] = Mylist[i]\n",
    "    return Mylist[higest]\n",
    "\n",
    "\n",
    "Without_Maximum_function(Mylist)\n",
    "\n",
    "\n",
    "def Without_Maximum_while(Mylist):\n",
    "    i = 0\n",
    "    highest = 0\n",
    "    while (i < len(Mylist)):\n",
    "        if Mylist[i] > Mylist[highest]:\n",
    "            Mylist[highest] = Mylist[highest]\n",
    "        i += 1\n",
    "    return Mylist[highest]\n",
    "\n",
    "def Maximum_function(Mylist):\n",
    "    return max(Mylist)\n",
    "\n",
    "\n",
    "Maximum_function(Mylist)\n",
    "\n",
    "Without_Maximum_while(Mylist)"
   ]
  },
  {
   "cell_type": "code",
   "execution_count": 21,
   "metadata": {},
   "outputs": [
    {
     "data": {
      "text/plain": [
       "3"
      ]
     },
     "execution_count": 21,
     "metadata": {},
     "output_type": "execute_result"
    }
   ],
   "source": [
    "def Without_Minimum_function(Mylist):\n",
    "    minimum = 0\n",
    "    for i in range(len(Mylist)):\n",
    "        if Mylist[i] < Mylist[minimum]:\n",
    "            Mylist[minimum] = Mylist[i]\n",
    "    return Mylist[minimum]\n",
    "\n",
    "Without_Minimum_function(Mylist)\n",
    "\n",
    "\n",
    "def Minn_function(Mylist):\n",
    "    return min(Mylist)\n",
    "\n",
    "\n",
    "Minn_function(Mylist)\n",
    "\n",
    "def Without_Minimum_function_while(Mylist):\n",
    "    i = 0\n",
    "    minimum = 0\n",
    "    while (i < len(Mylist)):\n",
    "        if Mylist[i] < Mylist[minimum]:\n",
    "            Mylist[minimum] = Mylist[i]\n",
    "        i += 1\n",
    "    return Mylist[minimum]\n",
    "\n",
    "Without_Minimum_function_while(Mylist)"
   ]
  },
  {
   "cell_type": "code",
   "execution_count": 24,
   "metadata": {},
   "outputs": [
    {
     "data": {
      "text/plain": [
       "243"
      ]
     },
     "execution_count": 24,
     "metadata": {},
     "output_type": "execute_result"
    }
   ],
   "source": [
    "def Without_sumof_function(Mylist):\n",
    "    Count = 0\n",
    "    for i in range(len(Mylist)):\n",
    "        Count += Mylist[i]\n",
    "    return Count\n",
    "\n",
    "Without_sumof_function(Mylist)\n",
    "\n",
    "\n",
    "\n",
    "def Without_sumof_function_while(Mylist):\n",
    "    Count = 0\n",
    "    i = 0\n",
    "    while (i < len(Mylist)):\n",
    "        Count += Mylist[i]\n",
    "        i += 1\n",
    "    return Count\n",
    "\n",
    "Without_sumof_function_while(Mylist)\n",
    "\n",
    "def sumof_function(Mylist):\n",
    "    return sum(Mylist)\n",
    "\n",
    "sumof_function(Mylist)"
   ]
  },
  {
   "cell_type": "code",
   "execution_count": 29,
   "metadata": {},
   "outputs": [],
   "source": [
    "def Append_Method(Mylist,value):\n",
    "    y = Mylist + [value]\n",
    "    return y\n",
    "\n",
    "Append_Method(Mylist,25)\n",
    "\n",
    "def Append(Mylist,element):\n",
    "    return Mylist.append(element)\n",
    "\n",
    "Append(Mylist,81)\n"
   ]
  },
  {
   "cell_type": "code",
   "execution_count": 32,
   "metadata": {},
   "outputs": [
    {
     "name": "stdout",
     "output_type": "stream",
     "text": [
      "print something is writeen\n",
      "third main something ...\n",
      "second print something..\n"
     ]
    }
   ],
   "source": [
    "def Decor(func):\n",
    "    def wrap():\n",
    "        print(\"print something is writeen\")\n",
    "        func()\n",
    "        print(\"second print something..\")\n",
    "    return wrap\n",
    "\n",
    "\n",
    "def sayhello():\n",
    "    print(\"third main something ...\")\n",
    "\n",
    "\n",
    "object = Decor(sayhello)\n",
    "object()"
   ]
  },
  {
   "cell_type": "code",
   "execution_count": 33,
   "metadata": {},
   "outputs": [
    {
     "name": "stdout",
     "output_type": "stream",
     "text": [
      "first something \n",
      "third something \n",
      "second something\n"
     ]
    }
   ],
   "source": [
    "def Cantstop_loving(func):\n",
    "    def wrap(*args,**kwargs):\n",
    "        print(\"first something \")\n",
    "        result = func(*args,**kwargs)\n",
    "        print(\"second something\")\n",
    "        return result\n",
    "    return wrap\n",
    "\n",
    "\n",
    "def saysomething():\n",
    "    print(\"third something \")\n",
    "\n",
    "\n",
    "obj = Cantstop_loving(saysomething)\n",
    "obj()"
   ]
  },
  {
   "cell_type": "code",
   "execution_count": 34,
   "metadata": {},
   "outputs": [
    {
     "name": "stdout",
     "output_type": "stream",
     "text": [
      "first someting\n",
      "hello word\n",
      "second something\n"
     ]
    }
   ],
   "source": [
    "def sayhello():\n",
    "    print(\"hello word\")\n",
    "\n",
    "\n",
    "def Decor(func):\n",
    "    def wrap():\n",
    "        print(\"first someting\")\n",
    "        result = func()\n",
    "        print(\"second something\")\n",
    "        return result\n",
    "    return wrap\n",
    "\n",
    "one = Decor(sayhello)\n",
    "one()"
   ]
  },
  {
   "cell_type": "code",
   "execution_count": 38,
   "metadata": {},
   "outputs": [
    {
     "name": "stdout",
     "output_type": "stream",
     "text": [
      "something is first\n",
      "socond happen\n"
     ]
    },
    {
     "data": {
      "text/plain": [
       "111"
      ]
     },
     "execution_count": 38,
     "metadata": {},
     "output_type": "execute_result"
    }
   ],
   "source": [
    "def sayhello():\n",
    "    print(\"my name is kalki\")\n",
    "\n",
    "\n",
    "def Decor(func):\n",
    "    def wrap(*args,**kwargs):\n",
    "        print(\"something is first\")\n",
    "        result = func(*args,**kwargs)\n",
    "        print(\"socond happen\")\n",
    "        return result\n",
    "    return wrap\n",
    "\n",
    "@Decor\n",
    "def addition(x,y):\n",
    "    return x+y\n",
    "addition(25,86)"
   ]
  },
  {
   "cell_type": "code",
   "execution_count": 40,
   "metadata": {},
   "outputs": [
    {
     "name": "stdout",
     "output_type": "stream",
     "text": [
      "something is first\n",
      "next generation\n",
      "socond happen\n"
     ]
    }
   ],
   "source": [
    "@Decor\n",
    "def third_dimension():\n",
    "    print(\"next generation\")\n",
    "\n",
    "\n",
    "third_dimension()"
   ]
  },
  {
   "cell_type": "code",
   "execution_count": 41,
   "metadata": {},
   "outputs": [
    {
     "name": "stdout",
     "output_type": "stream",
     "text": [
      "first argument is passed\n",
      "thir arguments\n",
      "second arguments\n"
     ]
    }
   ],
   "source": [
    "def log_flight(func):\n",
    "    def wrap(*args,**kwargs):\n",
    "        print(\"first argument is passed\")\n",
    "        result = func(*args,**kwargs)\n",
    "        print(\"second arguments\")\n",
    "        return result\n",
    "    return wrap\n",
    "\n",
    "\n",
    "@log_flight\n",
    "def Mymine():\n",
    "    print(\"thir arguments\")\n",
    "\n",
    "\n",
    "Mymine()"
   ]
  },
  {
   "cell_type": "code",
   "execution_count": 42,
   "metadata": {},
   "outputs": [
    {
     "name": "stdout",
     "output_type": "stream",
     "text": [
      "i have to change my mind\n",
      "time is 0.0\n"
     ]
    }
   ],
   "source": [
    "import time\n",
    "\n",
    "\n",
    "\n",
    "def Decor(func):\n",
    "    def wrap(*args,**kwargs):\n",
    "        start_time = time.time()\n",
    "        result = func(*args,**kwargs)\n",
    "        end_time = time.time()\n",
    "        print(f\"time is {start_time-end_time}\")\n",
    "        return result\n",
    "    return wrap\n",
    "\n",
    "@Decor\n",
    "def mylife():\n",
    "    print(\"i have to change my mind\")\n",
    "\n",
    "\n",
    "mylife()\n",
    "\n"
   ]
  },
  {
   "cell_type": "code",
   "execution_count": 46,
   "metadata": {},
   "outputs": [
    {
     "name": "stdout",
     "output_type": "stream",
     "text": [
      "first thing\n",
      "third thing\n",
      "fifth decoration\n",
      "fourth thiing\n",
      "second thing\n"
     ]
    }
   ],
   "source": [
    "def Decor(func):\n",
    "    def wrap(*args,**kwargs):\n",
    "        print(\"first thing\")\n",
    "        result = func(*args,**kwargs)\n",
    "        print(\"second thing\")\n",
    "        return result\n",
    "    return wrap\n",
    "\n",
    "def Decor1(func):\n",
    "    def wrap(*args,**kwargs):\n",
    "        print(\"third thing\")\n",
    "        result = func(*args,**kwargs)\n",
    "        print(\"fourth thiing\")\n",
    "        return result\n",
    "    return wrap\n",
    "\n",
    "@Decor\n",
    "@Decor1\n",
    "def mylife():\n",
    "    print(\"fifth decoration\")\n",
    "\n",
    "\n",
    "mylife()"
   ]
  },
  {
   "cell_type": "code",
   "execution_count": 47,
   "metadata": {},
   "outputs": [
    {
     "name": "stdout",
     "output_type": "stream",
     "text": [
      "[(4, 1), (1, 2), (3, 3), (5, 6)]\n"
     ]
    }
   ],
   "source": [
    "my_list = [(1, 2), (4, 1), (5, 6), (3, 3)]\n",
    "sorted_list = sorted(my_list, key=lambda x: x[1])\n",
    "print(sorted_list)\n"
   ]
  },
  {
   "cell_type": "code",
   "execution_count": 6,
   "metadata": {},
   "outputs": [
    {
     "name": "stdout",
     "output_type": "stream",
     "text": [
      "2 number is prime number\n"
     ]
    }
   ],
   "source": [
    "def prime_number(n):\n",
    "    if n > 1:\n",
    "        for i in range(2,n//2):\n",
    "            if (n%i) == 0:\n",
    "                print(n,\"number is not prime\")\n",
    "                break\n",
    "        else:\n",
    "            print(n,\"number is prime number\")\n",
    "    else:\n",
    "        print(n,\"number is not prime\")\n",
    "\n",
    "prime_number(2)"
   ]
  },
  {
   "cell_type": "code",
   "execution_count": 8,
   "metadata": {},
   "outputs": [
    {
     "data": {
      "text/plain": [
       "2"
      ]
     },
     "execution_count": 8,
     "metadata": {},
     "output_type": "execute_result"
    }
   ],
   "source": [
    "def fibonacci_series(n):\n",
    "    if n < 0:\n",
    "        print(\"incorrect number\")\n",
    "    elif n == 0:\n",
    "        return 0\n",
    "    \n",
    "    elif n == 1 or n == 2:\n",
    "        return 1\n",
    "    else:\n",
    "        return fibonacci_series(n-1) + fibonacci_series(n-2)\n",
    "    \n",
    "\n",
    "\n",
    "\n",
    "def fibonacci(n):\n",
    "    a , b = 0,1\n",
    "    if n < 0:\n",
    "        print(\"incorrect number\")\n",
    "    elif n == 0:\n",
    "        return 0\n",
    "    elif n == 1:\n",
    "        return b\n",
    "    else:\n",
    "        for i in range(1,n):\n",
    "            c = a + b\n",
    "            a = b \n",
    "            b = c\n",
    "        return b\n",
    "    \n",
    "fibonacci(3)"
   ]
  },
  {
   "cell_type": "code",
   "execution_count": 11,
   "metadata": {},
   "outputs": [
    {
     "name": "stdout",
     "output_type": "stream",
     "text": [
      "[0] []\n"
     ]
    }
   ],
   "source": [
    "def flatten_function(Mylist):\n",
    "    new_list = []\n",
    "    for i in range(len(Mylist)):\n",
    "        new_list.append(i)\n",
    "        print(new_list,[])\n",
    "\n",
    "\n",
    "Mylist = [[[1,2,3,[3,6,5]]]]\n",
    "flatten_function(Mylist)"
   ]
  },
  {
   "cell_type": "code",
   "execution_count": 12,
   "metadata": {},
   "outputs": [
    {
     "ename": "SyntaxError",
     "evalue": "invalid syntax (3744693352.py, line 4)",
     "output_type": "error",
     "traceback": [
      "\u001b[1;36m  Cell \u001b[1;32mIn [12], line 4\u001b[1;36m\u001b[0m\n\u001b[1;33m    Mylist[i] == search_key:\u001b[0m\n\u001b[1;37m                            ^\u001b[0m\n\u001b[1;31mSyntaxError\u001b[0m\u001b[1;31m:\u001b[0m invalid syntax\n"
     ]
    }
   ],
   "source": [
    "def Count_function(Mylist,search_key):\n",
    "    count = 0\n",
    "    for i in range(len(Mylist)):\n",
    "        if Mylist[i] == search_key:\n",
    "            count += 1\n",
    "    return count\n",
    "\n",
    "Mylist = [4,5,6,9,8,7,2,56,5,2,56,1,4,3,6,5,9,8,5,6,4,3,2,6,4]\n",
    "Count_function(Mylist,5)\n"
   ]
  },
  {
   "cell_type": "code",
   "execution_count": null,
   "metadata": {},
   "outputs": [],
   "source": []
  }
 ],
 "metadata": {
  "kernelspec": {
   "display_name": "base",
   "language": "python",
   "name": "python3"
  },
  "language_info": {
   "codemirror_mode": {
    "name": "ipython",
    "version": 3
   },
   "file_extension": ".py",
   "mimetype": "text/x-python",
   "name": "python",
   "nbconvert_exporter": "python",
   "pygments_lexer": "ipython3",
   "version": "3.8.8"
  },
  "orig_nbformat": 4
 },
 "nbformat": 4,
 "nbformat_minor": 2
}
