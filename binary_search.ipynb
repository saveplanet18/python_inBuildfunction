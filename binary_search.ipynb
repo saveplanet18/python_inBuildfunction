{
 "cells": [
  {
   "cell_type": "code",
   "execution_count": 18,
   "metadata": {},
   "outputs": [
    {
     "name": "stdout",
     "output_type": "stream",
     "text": [
      "[1, 3, 6]\n"
     ]
    }
   ],
   "source": [
    "def Bubblesort(arr):\n",
    "    for i in range(len(arr)):\n",
    "        flag = True\n",
    "        for j in range(len(arr)-i-1):\n",
    "            if (arr[j] > arr[j+1]):\n",
    "                arr[j],arr[j+1] = arr[j+1] ,arr[j]\n",
    "        if (flag == False):\n",
    "            return -1  \n",
    "    return arr\n",
    "\n",
    "if __name__ == \"__main__\":\n",
    "    arr = [6,3,1]\n",
    "    print(Bubblesort(arr))"
   ]
  },
  {
   "cell_type": "code",
   "execution_count": 20,
   "metadata": {},
   "outputs": [
    {
     "name": "stdout",
     "output_type": "stream",
     "text": [
      "[2, 3, 4, 5, 7, 8, 9, 18, 35, 36, 88]\n"
     ]
    }
   ],
   "source": [
    "def selection_sort(arr):\n",
    "    for i in range(len(arr)):\n",
    "        min_idx = i\n",
    "        for j in range(i+1,len(arr)):\n",
    "            if (arr[j] < arr[min_idx]):\n",
    "                min_idx = j\n",
    "        if (min_idx != i):\n",
    "            arr[min_idx],arr[i] = arr[i],arr[min_idx]\n",
    "    return arr\n",
    "\n",
    "if __name__ == \"__main__\":\n",
    "    arr = [18,5,36,4,2,35,8,7,9,3,88]\n",
    "    print(selection_sort(arr))\n"
   ]
  },
  {
   "cell_type": "code",
   "execution_count": 13,
   "metadata": {},
   "outputs": [
    {
     "name": "stdout",
     "output_type": "stream",
     "text": [
      "[2, 3, 4, 5, 6, 8, 9, 18, 36, 41, 45]\n"
     ]
    }
   ],
   "source": [
    "def Insertiont_Sort(arr):\n",
    "    for i in range(len(arr)):\n",
    "        temp = arr[i]\n",
    "        j = i -1\n",
    "        while (j >= 0 and temp < arr[j]):\n",
    "            arr[j+1] = arr[j]\n",
    "            j -= 1\n",
    "        arr[j+1] = temp\n",
    "    return arr\n",
    "\n",
    "\n",
    "\n",
    "if __name__ == \"__main__\":\n",
    "    arr = [18,5,6,41,2,3,8,9,4,45,36]\n",
    "    print(Insertiont_Sort(arr))"
   ]
  },
  {
   "cell_type": "code",
   "execution_count": 22,
   "metadata": {},
   "outputs": [],
   "source": [
    "def MergeSort(arr,left,right):\n",
    "    if (left < right):\n",
    "        mid = (left + right)//2\n",
    "        MergeSort(arr,left,mid)\n",
    "        MergeSort(arr,mid+1,right)\n",
    "        MergeSort_con(arr,left,mid,right)\n",
    "\n",
    "\n",
    "def MergeSort_con(arr,left,right,mid):\n",
    "    mylist = []\n",
    "    i = left\n",
    "    j = mid + 1\n",
    "    k = left\n",
    "    while (i <= mid or j <= right):\n",
    "        if arr[i] < arr[j]:\n",
    "            mylist[k] = arr[i]\n",
    "            i += 1\n",
    "            k += 1\n",
    "        else:\n",
    "            mylist[k] = arr[j]\n",
    "            j += 1\n",
    "            k += 1\n",
    "    if (i > mid):\n",
    "        while (j <= right):\n",
    "            mylist[k] = arr[j]\n",
    "            j += 1\n",
    "            k += 1\n",
    "        else:\n",
    "            while (i <= mid):\n",
    "                mylist[k] = arr[i]\n",
    "                i += 1\n",
    "                k += 1\n",
    "    return mylist\n",
    "\n",
    "if __name__ == \"__main__\":\n",
    "    arr = [18,5,6,41,2,3,8,9,4,45,36]\n",
    "    # for i in range(len(arr)):\n",
    "    #     print(arr[i],end ='->')\n",
    "    # print()\n",
    "    # print(MergeSort(arr,0,len(arr)-1))\n"
   ]
  },
  {
   "cell_type": "code",
   "execution_count": 54,
   "metadata": {},
   "outputs": [
    {
     "name": "stdout",
     "output_type": "stream",
     "text": [
      "[2, 3, 4, 5, 6, 8, 9, 18, 36, 41, 45]\n"
     ]
    }
   ],
   "source": [
    "def MergeSort_i(arr):\n",
    "    if len(arr) > 1:\n",
    "        mid = len(arr)//2\n",
    "        Left = arr[:mid]\n",
    "        Right = arr[mid:]\n",
    "        MergeSort_i(Left)\n",
    "        MergeSort_i(Right)\n",
    "        i = j = k = 0\n",
    "        while (i < len(Left) and j < len(Right)):\n",
    "            if Left[i] < Right[j]:\n",
    "                arr[k] = Left[i]\n",
    "                i += 1\n",
    "            else:\n",
    "                arr[k] = Right[j]\n",
    "                j += 1\n",
    "            k += 1\n",
    "        while (i < len(Left)):\n",
    "            arr[k] = Left[i]\n",
    "            i += 1\n",
    "            k += 1\n",
    "        while (j < len(Right)):\n",
    "            arr[k] = Right[j]\n",
    "            j += 1\n",
    "            k += 1\n",
    "\n",
    "        return arr\n",
    "\n",
    "if __name__ == \"__main__\":\n",
    "    arr = [18,5,6,41,2,3,8,9,4,45,36]\n",
    "    print(MergeSort_i(arr)) "
   ]
  },
  {
   "cell_type": "code",
   "execution_count": 12,
   "metadata": {},
   "outputs": [
    {
     "name": "stdout",
     "output_type": "stream",
     "text": [
      "[2, 3, 4, 5, 6, 8, 9, 18, 36, 41, 45]\n"
     ]
    }
   ],
   "source": [
    "def Partion_Sort(arr,Start,End):\n",
    "    pivot = arr[End]\n",
    "    i = Start - 1\n",
    "    for j in range(Start,End):\n",
    "        if arr[j] <= pivot:\n",
    "            i += 1\n",
    "            arr[i],arr[j] = arr[j],arr[i]\n",
    "    arr[i + 1] , arr[End] = arr[End] ,arr[i + 1]\n",
    "    return i +1\n",
    "\n",
    "def Quick_Sort(arr,low,high):\n",
    "    if (low < high):\n",
    "        pi = Partion_Sort(arr,low,high)\n",
    "        Quick_Sort(arr,low , pi-1)\n",
    "        Quick_Sort(arr,pi + 1,high)\n",
    "        return arr\n",
    "    \n",
    "\n",
    "if __name__ == \"__main__\":\n",
    "    arr = [18,5,6,41,2,3,8,9,4,45,36]\n",
    "    print(Quick_Sort(arr,0,len(arr) -1)) \n",
    "\n",
    "\n"
   ]
  },
  {
   "cell_type": "code",
   "execution_count": 2,
   "metadata": {},
   "outputs": [
    {
     "name": "stdout",
     "output_type": "stream",
     "text": [
      "9\n"
     ]
    }
   ],
   "source": [
    "def Maxarray(arr):\n",
    "    z = arr[0]\n",
    "    for i in range(len(arr)):\n",
    "        if z < arr[i]:\n",
    "            z = arr[i]\n",
    "    return z\n",
    "\n",
    "if __name__ == \"__main__\":\n",
    "    arr = [9,5,3,2,4,6,7,3]\n",
    "    print(Maxarray(arr))"
   ]
  },
  {
   "cell_type": "code",
   "execution_count": 5,
   "metadata": {},
   "outputs": [
    {
     "name": "stdout",
     "output_type": "stream",
     "text": [
      "{'m': 4, 'y': 1, ' ': 8, 'n': 6, 'a': 5, 'e': 5, 'i': 3, 's': 2, 'j': 1, 'u': 2, 't': 1, 'h': 1, 'k': 1, 'r': 3, 'o': 2, 'd': 1, 'v': 1, 'l': 1, 'p': 1}\n"
     ]
    }
   ],
   "source": [
    "def countstring(string):\n",
    "    count_char = {}\n",
    "    for char in string:\n",
    "        if char in count_char:\n",
    "            count_char[char] += 1\n",
    "        else:\n",
    "            count_char[char] = 1\n",
    "    return count_char\n",
    "\n",
    "string = \"my name is manjunath kannur i am sineor developer\"\n",
    "print(countstring(string))\n",
    "\n"
   ]
  },
  {
   "cell_type": "code",
   "execution_count": 69,
   "metadata": {},
   "outputs": [
    {
     "name": "stdout",
     "output_type": "stream",
     "text": [
      "[2, 3, 3, 3, 6, 6, 4, 4, 4, 7, 7, 7, 7, 7, 5, 5, 5, 2, 1, 1, 4, 4]\n"
     ]
    }
   ],
   "source": [
    "def Count_sort(arr):\n",
    "    max_value = max(arr)\n",
    "    Count_value = [0] * (max_value + 1)\n",
    "    for i in arr:\n",
    "        Count_value[i] += 1\n",
    "    for num in range(1,max_value + 1):\n",
    "        Count_value[num] += Count_value[num -1]\n",
    "    sorted_arr = [0] * len(arr)\n",
    "    for i in arr:\n",
    "        sorted_arr[Count_value[i] -1] = arr[i]\n",
    "        Count_value[i] -= 1\n",
    "\n",
    "    return sorted_arr\n",
    "\n",
    "if __name__ == \"__main__\":\n",
    "    arr = [5,2,3,6,4,7,5,2,1,4,9,6,5,8,2,5,4,3,6,8,5,9]\n",
    "    print(Count_sort(arr))"
   ]
  },
  {
   "cell_type": "code",
   "execution_count": null,
   "metadata": {},
   "outputs": [],
   "source": []
  }
 ],
 "metadata": {
  "kernelspec": {
   "display_name": "base",
   "language": "python",
   "name": "python3"
  },
  "language_info": {
   "codemirror_mode": {
    "name": "ipython",
    "version": 3
   },
   "file_extension": ".py",
   "mimetype": "text/x-python",
   "name": "python",
   "nbconvert_exporter": "python",
   "pygments_lexer": "ipython3",
   "version": "3.10.9"
  },
  "orig_nbformat": 4
 },
 "nbformat": 4,
 "nbformat_minor": 2
}
