{
 "cells": [
  {
   "cell_type": "code",
   "execution_count": 13,
   "metadata": {},
   "outputs": [],
   "source": [
    "class Tree_Node(object):\n",
    "    def __init__(self,elements):\n",
    "        self.elements = elements\n",
    "        self.Left_Node = None\n",
    "        self.Right_Node = None\n",
    "\n",
    "    def In_Ordered(self):\n",
    "        if self.Left_Node:\n",
    "            self.Left_Node.In_Ordered()\n",
    "        print(str(self.elements) + '->' , end ='')\n",
    "        if self.Right_Node:\n",
    "            self.Right_Node.In_Ordered()\n",
    "\n",
    "    def Pre_Ordered(self):\n",
    "        print(str(self.elements) + '->' , end ='')\n",
    "        if self.Left_Node:\n",
    "            self.Left_Node.Pre_Ordered()\n",
    "        if self.Right_Node:\n",
    "            self.Right_Node.Pre_Ordered()\n",
    "\n",
    "\n",
    "    def Post_Ordered(self):\n",
    "        if self.Left_Node:\n",
    "            self.Left_Node.Post_Ordered()\n",
    "        if self.Right_Node:\n",
    "            self.Right_Node.Post_Ordered()\n",
    "        print(str(self.elements) + '->' , end ='')\n",
    "\n",
    "def In_Ordered(root):\n",
    "    if root:\n",
    "        In_Ordered(root.Left_Node)\n",
    "        print(str(root.elements) + '->' , end ='')\n",
    "        In_Ordered(root.Right_Node)\n",
    "\n",
    "\n",
    "def Pre_Ordered(root):\n",
    "    if root:\n",
    "        print(str(root.elements) + '->' , end ='')\n",
    "        Pre_Ordered(root.Left_Node)\n",
    "        Pre_Ordered(root.Right_Node)\n",
    "\n",
    "\n",
    "def Post_Ordered(root):\n",
    "    if root:\n",
    "        Post_Ordered(root.Left_Node)\n",
    "        Post_Ordered(root.Right_Node)\n",
    "        print(str(root.elements) + '->' ,end ='')"
   ]
  },
  {
   "cell_type": "code",
   "execution_count": null,
   "metadata": {},
   "outputs": [],
   "source": []
  },
  {
   "cell_type": "code",
   "execution_count": 31,
   "metadata": {},
   "outputs": [
    {
     "name": "stdout",
     "output_type": "stream",
     "text": [
      "yes it's Full Binary Tree\n"
     ]
    }
   ],
   "source": [
    "if __name__ == \"__main__\":\n",
    "    root = Tree_Node(18)\n",
    "    root.Left_Node = Tree_Node(16)\n",
    "    root.Right_Node = Tree_Node(17)\n",
    "    root.Left_Node.Left_Node = Tree_Node(14)\n",
    "    root.Left_Node.Right_Node = Tree_Node(15)\n",
    "    root.Right_Node.Left_Node = Tree_Node(65)\n",
    "    root.Right_Node.Right_Node = Tree_Node(58)\n",
    "    # print(root.In_Ordered())\n",
    "    # print(root.Pre_Ordered())\n",
    "    # print(root.Post_Ordered())\n",
    "\n",
    "    if Is_Binary_Tree(root):\n",
    "        print(\"yes it's Full Binary Tree\")\n",
    "    else:\n",
    "        print(\"No it's Not Full Binary Tree\")\n",
    "\n",
    "    # print(In_Ordered(root))\n",
    "    # print(Pre_Ordered(root))\n",
    "    # print(Post_Ordered(root))"
   ]
  }
 ],
 "metadata": {
  "kernelspec": {
   "display_name": "base",
   "language": "python",
   "name": "python3"
  },
  "language_info": {
   "codemirror_mode": {
    "name": "ipython",
    "version": 3
   },
   "file_extension": ".py",
   "mimetype": "text/x-python",
   "name": "python",
   "nbconvert_exporter": "python",
   "pygments_lexer": "ipython3",
   "version": "3.10.9"
  },
  "orig_nbformat": 4
 },
 "nbformat": 4,
 "nbformat_minor": 2
}
