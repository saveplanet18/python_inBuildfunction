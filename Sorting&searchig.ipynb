{
 "cells": [
  {
   "cell_type": "code",
   "execution_count": 6,
   "metadata": {},
   "outputs": [
    {
     "name": "stdout",
     "output_type": "stream",
     "text": [
      "[2, 2, 3, 3, 4, 5, 5, 5, 6, 6, 7, 8, 8, 9, 9]\n"
     ]
    }
   ],
   "source": [
    "def Bubble_sort(arr):\n",
    "    for i in range(len(arr)):\n",
    "        flag = True\n",
    "        for j in range(len(arr)-1):\n",
    "            if arr[j] > arr[j+1]:\n",
    "                arr[j],arr[j+1] = arr[j+1],arr[j]\n",
    "        if flag == None:\n",
    "            return False\n",
    "    return arr\n",
    "\n",
    "if __name__ == \"__main__\":\n",
    "    arr = [8,7,5,3,6,9,2,5,8,4,2,5,3,6,9]\n",
    "    print(Bubble_sort(arr))"
   ]
  },
  {
   "cell_type": "code",
   "execution_count": 34,
   "metadata": {},
   "outputs": [
    {
     "name": "stdout",
     "output_type": "stream",
     "text": [
      "[2, 2, 3, 3, 4, 5, 5, 5, 6, 6, 7, 8, 8, 9, 9]\n"
     ]
    }
   ],
   "source": [
    "class Bubble_sort(object):\n",
    "    def __init__(self,arr):\n",
    "        self.arr = arr\n",
    "    \n",
    "    def Traverser_Bubblesort(self):\n",
    "        for i in range(len(self.arr)):\n",
    "            flag = True\n",
    "            for j in range(len(self.arr)-1):\n",
    "                if (self.arr[j] > self.arr[j+1]):\n",
    "                    self.arr[j] ,self.arr[j+1] = self.arr[j+1],self.arr[j]\n",
    "            if flag == None:\n",
    "                return 0\n",
    "        return self.arr\n",
    "    \n",
    "\n",
    "if __name__ == \"__main__\":\n",
    "    arr = [8,7,5,3,6,9,2,5,8,4,2,5,3,6,9]\n",
    "    root = Bubble_sort(arr)\n",
    "    root.Traverser_Bubblesort()\n",
    "    print(arr)\n"
   ]
  },
  {
   "cell_type": "code",
   "execution_count": 40,
   "metadata": {},
   "outputs": [
    {
     "name": "stdout",
     "output_type": "stream",
     "text": [
      "[8, 7, 5, 3, 6, 9, 2, 5, 8, 4, 2, 5, 3, 6, 9]\n",
      "[2, 2, 3, 3, 4, 5, 5, 5, 6, 6, 7, 8, 8, 9, 9]\n"
     ]
    }
   ],
   "source": [
    "def Selection_Sort(arr):\n",
    "    for i in range(len(arr)):\n",
    "        min_idx = i\n",
    "        for j in range(i+1,len(arr)):\n",
    "            if (arr[j] < arr[min_idx]):\n",
    "                min_idx = j\n",
    "        if (i != min_idx):\n",
    "            arr[i],arr[min_idx] = arr[min_idx],arr[i]\n",
    "    return arr\n",
    "    \n",
    "if __name__ == \"__main__\":\n",
    "    arr = [8,7,5,3,6,9,2,5,8,4,2,5,3,6,9]\n",
    "    print(arr)\n",
    "    print(Selection_Sort(arr))"
   ]
  },
  {
   "cell_type": "code",
   "execution_count": 48,
   "metadata": {},
   "outputs": [
    {
     "name": "stdout",
     "output_type": "stream",
     "text": [
      "[8, 7, 5, 3, 6, 9, 2, 5, 8, 4, 2, 5, 3, 6, 9]\n",
      "[2, 2, 3, 3, 4, 5, 5, 5, 6, 6, 7, 8, 8, 9, 9]\n"
     ]
    }
   ],
   "source": [
    "def Insertion_Sort(arr):\n",
    "    for i in range(len(arr)):\n",
    "        temp = arr[i]\n",
    "        j = i -1\n",
    "        while(j >= 0 and arr[j] > temp):\n",
    "            arr[j+1] = arr[j]\n",
    "            j -= 1\n",
    "        arr[j+1] = temp\n",
    "    return arr\n",
    "\n",
    "    \n",
    "if __name__ == \"__main__\":\n",
    "    arr = [8, 7, 5, 3, 6, 9, 2, 5, 8, 4, 2, 5, 3, 6, 9]\n",
    "    print(arr)\n",
    "    print(Insertion_Sort(arr))"
   ]
  },
  {
   "cell_type": "code",
   "execution_count": 61,
   "metadata": {},
   "outputs": [
    {
     "name": "stdout",
     "output_type": "stream",
     "text": [
      "[2, 2, 3, 3, 4, 5, 5, 5, 6, 6, 7, 8, 8, 9, 9]\n"
     ]
    }
   ],
   "source": [
    "def Merge_Sort(arr):\n",
    "    if len(arr) > 1:\n",
    "        mid = len(arr)//2\n",
    "        Left = arr[:mid]\n",
    "        Right = arr[mid:]\n",
    "        Merge_Sort(Left)\n",
    "        Merge_Sort(Right)\n",
    "        i = j = k = 0\n",
    "        while (i < len(Left) and j < len(Right)):\n",
    "            if Left[i] < Right[j]:\n",
    "                arr[k] = Left[i]\n",
    "                i += 1\n",
    "            else:\n",
    "                arr[k] = Right[j]\n",
    "                j += 1\n",
    "            k += 1\n",
    "        while (i < len(Left)):\n",
    "            arr[k] = Left[i]\n",
    "            i += 1\n",
    "            k += 1\n",
    "        while (j < len(Right)):\n",
    "            arr[k] = Right[j]\n",
    "            j += 1\n",
    "            k += 1\n",
    "\n",
    "    return arr\n",
    "\n",
    "if __name__ == \"__main__\":\n",
    "    arr = [8, 7, 5, 3, 6, 9, 2, 5, 8, 4, 2, 5, 3, 6, 9]\n",
    "    print(Merge_Sort(arr))\n",
    "    "
   ]
  },
  {
   "cell_type": "code",
   "execution_count": 82,
   "metadata": {},
   "outputs": [
    {
     "name": "stdout",
     "output_type": "stream",
     "text": [
      "[2, 2, 3, 3, 4, 5, 5, 5, 6, 6, 7, 8, 8, 9, 9]\n"
     ]
    }
   ],
   "source": [
    "def Partion_Part(arr,low,high):\n",
    "    pivot = arr[high]\n",
    "    i = low - 1\n",
    "    for j in range(low ,high):\n",
    "        if arr[j] <= pivot:\n",
    "            i += 1\n",
    "            arr[i],arr[j] = arr[j],arr[i]\n",
    "    (arr[i+1],arr[high]) = (arr[high],arr[i+1])\n",
    "    return i +1\n",
    "\n",
    "        \n",
    "\n",
    "def Quick_Sort(arr,low,high):\n",
    "    if low < high:\n",
    "        pi = Partion_Part(arr,low,high)\n",
    "        Quick_Sort(arr,low,pi-1)\n",
    "        Quick_Sort(arr,pi+1,high)\n",
    "    return arr\n",
    "if __name__ == \"__main__\":\n",
    "    arr = [8, 7, 5, 3, 6, 9, 2, 5, 8, 4, 2, 5, 3, 6, 9]\n",
    "    print(Quick_Sort(arr,0,len(arr)-1))"
   ]
  },
  {
   "cell_type": "code",
   "execution_count": 102,
   "metadata": {},
   "outputs": [
    {
     "name": "stdout",
     "output_type": "stream",
     "text": [
      "[2, 2, 3, 3, 4, 5, 5, 5, 6, 6, 7, 8, 8, 9, 9]\n"
     ]
    }
   ],
   "source": [
    "def Count_Sort(arr):\n",
    "    size = len(arr)\n",
    "    Result = [0] * (size + 1)\n",
    "    Count = [0] * 10\n",
    "    for i in range(0,size):\n",
    "        Count[arr[i]] += 1\n",
    "    \n",
    "    for i in range(1,10):\n",
    "        Count[i] += Count[i-1]\n",
    "    \n",
    "    i = size-1\n",
    "    while (i >= 0):\n",
    "        Result[Count[arr[i]] - 1] = arr[i]\n",
    "        Count[arr[i]] -= 1\n",
    "        i -= 1\n",
    "    for i in range(0,size):\n",
    "        arr[i] = Result[i]\n",
    "    return arr\n",
    "if __name__ == \"__main__\":\n",
    "    arr = [8, 7, 5, 3, 6, 9, 2, 5, 8, 4, 2, 5, 3, 6, 9]\n",
    "    print(Count_Sort(arr))"
   ]
  },
  {
   "cell_type": "code",
   "execution_count": 124,
   "metadata": {},
   "outputs": [
    {
     "name": "stdout",
     "output_type": "stream",
     "text": [
      "[10, 20, 30, 40, 60, 70, 100]\n"
     ]
    }
   ],
   "source": [
    "def Count_Sort_radix(arr,place):\n",
    "    size = len(arr)\n",
    "    Count = [0] * 10\n",
    "    Result = [0] * (size+1)\n",
    "    for i in range(0,size):\n",
    "        index = arr[i] // place\n",
    "        Count[index % 10] += 1\n",
    "    for i in range(1,10):\n",
    "        Count[i] += Count[i-1]\n",
    "    \n",
    "    i = size -1\n",
    "    while (i >= 0):\n",
    "        index = arr[i] // place\n",
    "        Result[Count[index % 10] -1] = arr[i]\n",
    "        Count[index % 10] -= 1\n",
    "        i -= 1\n",
    "    for i in range(0,size):\n",
    "        arr[i] = Result[i]\n",
    "    return Result\n",
    "\n",
    "def Radix_Sort(arr):\n",
    "    max_element = max(arr)\n",
    "    place = 1\n",
    "    while max_element // place > 0:\n",
    "        Count_Sort_radix(arr,place)\n",
    "        place *= 10\n",
    "    return arr\n",
    "if __name__ == \"__main__\":\n",
    "    arr = [20,40,10,60,30,70,100]\n",
    "    print(Radix_Sort(arr))"
   ]
  },
  {
   "cell_type": "code",
   "execution_count": 130,
   "metadata": {},
   "outputs": [
    {
     "name": "stdout",
     "output_type": "stream",
     "text": [
      "[[], [], [], [], [], []]\n"
     ]
    }
   ],
   "source": [
    "def Bucket_Sort(arr):\n",
    "    bucket = []\n",
    "    for i in range(len(arr)):\n",
    "        bucket.append([])\n",
    "    \n",
    "    for j in range(len(arr)):\n",
    "        index_b = (10 ,j)\n",
    "        \n",
    "    return bucket\n",
    "\n",
    "if __name__ == \"__main__\":\n",
    "    arr = [0.32,0.10,0.40,0.20,0.11,0.88]\n",
    "    print(Bucket_Sort(arr))"
   ]
  },
  {
   "cell_type": "code",
   "execution_count": null,
   "metadata": {},
   "outputs": [],
   "source": []
  }
 ],
 "metadata": {
  "kernelspec": {
   "display_name": "base",
   "language": "python",
   "name": "python3"
  },
  "language_info": {
   "codemirror_mode": {
    "name": "ipython",
    "version": 3
   },
   "file_extension": ".py",
   "mimetype": "text/x-python",
   "name": "python",
   "nbconvert_exporter": "python",
   "pygments_lexer": "ipython3",
   "version": "3.10.9"
  },
  "orig_nbformat": 4
 },
 "nbformat": 4,
 "nbformat_minor": 2
}
