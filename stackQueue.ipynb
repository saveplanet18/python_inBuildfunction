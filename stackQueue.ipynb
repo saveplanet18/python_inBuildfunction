{
 "cells": [
  {
   "cell_type": "code",
   "execution_count": 22,
   "metadata": {},
   "outputs": [
    {
     "name": "stdout",
     "output_type": "stream",
     "text": [
      "[18, 45]\n"
     ]
    }
   ],
   "source": [
    "class Stack_Operation(object):\n",
    "    def __init__(self):\n",
    "        self.Mylist = []\n",
    "\n",
    "    def is_empty(self):\n",
    "        return len(self.Mylist) == 0\n",
    "    \n",
    "    def is_full(self):\n",
    "        return len(self.Mylist) != 0\n",
    "    \n",
    "    def is_peek(self):\n",
    "        return self.Mylist[-1]\n",
    "    \n",
    "    def Push(self,ele):\n",
    "        return self.Mylist.append(ele)\n",
    "    \n",
    "    def Pop(self):\n",
    "        return self.Mylist.pop()\n",
    "    \n",
    "    def display(self):\n",
    "        print(self.Mylist)\n",
    "    \n",
    "if __name__ == \"__main__\":\n",
    "    st = Stack_Operation()\n",
    "    st.Push(18)\n",
    "    st.Push(45)\n",
    "    st.Push(36)\n",
    "    st.Pop()\n",
    "    st.display()"
   ]
  },
  {
   "cell_type": "code",
   "execution_count": 28,
   "metadata": {},
   "outputs": [
    {
     "name": "stdout",
     "output_type": "stream",
     "text": [
      "elements are listed..\n",
      "18->\n"
     ]
    }
   ],
   "source": [
    "class Linked_List_Stack(object):\n",
    "    def __init__(self,elements):\n",
    "        self.elements = elements\n",
    "        self.Next = None\n",
    "\n",
    "\n",
    "class Linked_List():\n",
    "    def __init__(self):\n",
    "        self.Head = None\n",
    "\n",
    "    def Insertion_at_End(self,ele):\n",
    "        new_object = Linked_List_Stack(ele)\n",
    "        if (self.Head == None):\n",
    "            self.Head = new_object\n",
    "        else:\n",
    "            temp = self.Head\n",
    "            while (temp.Next != None):\n",
    "                temp = temp.Next\n",
    "            temp.Next = new_object\n",
    "    \n",
    "    def Deletion_at_Start(self):\n",
    "        if (self.Head == None):\n",
    "            self.Head = None\n",
    "            return\n",
    "        else:\n",
    "            First_Node = None\n",
    "            self.Head = self.Head.Next\n",
    "            First_Node = None\n",
    "\n",
    "    def Traverse_Linked_List(self):\n",
    "        temp = self.Head\n",
    "        if (temp != None):\n",
    "            print(\"elements are listed..\")\n",
    "            while (temp != None):\n",
    "                print(temp.elements,end ='->')\n",
    "                temp = temp.Next\n",
    "            print()\n",
    "        else:\n",
    "            print(\"elements are empty\")\n",
    "\n",
    "if __name__ == \"__main__\":\n",
    "    root = Linked_List()\n",
    "    root.Insertion_at_End(45)\n",
    "    root.Insertion_at_End(36)\n",
    "    root.Insertion_at_End(18)\n",
    "    root.Deletion_at_Start()\n",
    "    root.Deletion_at_Start()\n",
    "    root.Traverse_Linked_List()"
   ]
  },
  {
   "cell_type": "code",
   "execution_count": 4,
   "metadata": {},
   "outputs": [
    {
     "name": "stdout",
     "output_type": "stream",
     "text": [
      "45->36->25->None->None->None->"
     ]
    }
   ],
   "source": [
    "class Stack_Product(object):\n",
    "    def __init__(self,elements):\n",
    "        self.elements = elements\n",
    "        self.Top = -1\n",
    "        self.Mylist = [None] * elements\n",
    "\n",
    "    def Insertion_rear_End(self,ele):\n",
    "        if (self.Top == self.elements):\n",
    "            print(\"Stack is Overflow\")\n",
    "        else:\n",
    "            self.Top += 1\n",
    "            self.Mylist[self.Top] = ele\n",
    "            return\n",
    "    \n",
    "    def Traverse_Stack(self):\n",
    "        temp = self.Mylist\n",
    "        for i in range(len(temp)):\n",
    "            if (temp == None):\n",
    "                break\n",
    "            print(temp[i],end ='->')\n",
    "        \n",
    "if __name__ == \"__main__\":\n",
    "    root = Stack_Product(6)\n",
    "    root.Insertion_rear_End(45)\n",
    "    root.Insertion_rear_End(36)\n",
    "    root.Insertion_rear_End(25)\n",
    "    root.Traverse_Stack()\n",
    "\n"
   ]
  },
  {
   "cell_type": "code",
   "execution_count": null,
   "metadata": {},
   "outputs": [],
   "source": []
  }
 ],
 "metadata": {
  "kernelspec": {
   "display_name": "base",
   "language": "python",
   "name": "python3"
  },
  "language_info": {
   "codemirror_mode": {
    "name": "ipython",
    "version": 3
   },
   "file_extension": ".py",
   "mimetype": "text/x-python",
   "name": "python",
   "nbconvert_exporter": "python",
   "pygments_lexer": "ipython3",
   "version": "3.10.9"
  },
  "orig_nbformat": 4
 },
 "nbformat": 4,
 "nbformat_minor": 2
}
