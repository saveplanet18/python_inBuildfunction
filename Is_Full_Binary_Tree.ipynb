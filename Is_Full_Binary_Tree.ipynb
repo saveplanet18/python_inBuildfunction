{
 "cells": [
  {
   "cell_type": "code",
   "execution_count": 11,
   "metadata": {},
   "outputs": [],
   "source": [
    "class Is_Full_Binary_Tree(object):\n",
    "    def __init__(self,elements):\n",
    "        self.elements = elements\n",
    "        self.Left_Node = None\n",
    "        self.Right_Node = None"
   ]
  },
  {
   "cell_type": "code",
   "execution_count": 12,
   "metadata": {},
   "outputs": [],
   "source": [
    "def is_full_Binary_Tree(root):\n",
    "    if (root is None):\n",
    "        return True\n",
    "    elif (root.Left_Node is None and root.Right_Node is None):\n",
    "        return True\n",
    "    elif (root.Left_Node is not None and root.Right_Node is not None):\n",
    "        return is_full_Binary_Tree(root.Left_Node) and is_full_Binary_Tree(root.Right_Node)\n",
    "    return False\n"
   ]
  },
  {
   "cell_type": "code",
   "execution_count": 16,
   "metadata": {},
   "outputs": [],
   "source": [
    "def Height_Of_Tree(root):\n",
    "    Count = 0\n",
    "    while (root is not None):\n",
    "        Count += 1\n",
    "        root = root.Left_Node\n",
    "    return Count \n",
    "\n",
    "def Is_Perfect_Tree(root,Height_Of_Tree,level = 0):\n",
    "    if (root is None):\n",
    "        return True\n",
    "    elif (root.Left_Node is None and root.Right_Node is None):\n",
    "        return (Height_Of_Tree == level + 1)\n",
    "    return False\n",
    "\n",
    "    "
   ]
  },
  {
   "cell_type": "code",
   "execution_count": 17,
   "metadata": {},
   "outputs": [
    {
     "name": "stdout",
     "output_type": "stream",
     "text": [
      "3\n",
      "No\n"
     ]
    }
   ],
   "source": [
    "if __name__ == \"__main__\":\n",
    "    root = Is_Full_Binary_Tree(18)\n",
    "    root.Left_Node = Is_Full_Binary_Tree(45)\n",
    "    root.Right_Node = Is_Full_Binary_Tree(36)\n",
    "    root.Left_Node.Left_Node = Is_Full_Binary_Tree(25)\n",
    "    root.Left_Node.Right_Node = Is_Full_Binary_Tree(24)\n",
    "    root.Right_Node.Left_Node = Is_Full_Binary_Tree(52)\n",
    "    root.Right_Node.Right_Node = Is_Full_Binary_Tree(50)\n",
    "    print(Height_Of_Tree(root))\n",
    "\n",
    "    # if is_full_Binary_Tree(root):\n",
    "    #     print(\"yes it's Full Binary Tree\")\n",
    "    # else:\n",
    "    #     print(\"No it's not full Binary\")\n",
    "    if Is_Perfect_Tree(root,Height_Of_Tree(root)):\n",
    "        print(\"yes\")\n",
    "    else:\n",
    "        print(\"No\")"
   ]
  },
  {
   "cell_type": "code",
   "execution_count": null,
   "metadata": {},
   "outputs": [],
   "source": [
    "# def BubbleSort(arr):\n",
    "#     n = len(arr)\n",
    "#     for i in range(n):\n",
    "#         for j in range(i+1,n-1):\n",
    "#             if arr[j] > arr[j+1]:\n",
    "#                 temp = arr[j]\n",
    "#                 arr[j] = arr[j+1]\n",
    "#                 arr[j+1] = temp\n",
    "    \n"
   ]
  }
 ],
 "metadata": {
  "kernelspec": {
   "display_name": "base",
   "language": "python",
   "name": "python3"
  },
  "language_info": {
   "codemirror_mode": {
    "name": "ipython",
    "version": 3
   },
   "file_extension": ".py",
   "mimetype": "text/x-python",
   "name": "python",
   "nbconvert_exporter": "python",
   "pygments_lexer": "ipython3",
   "version": "3.10.9"
  },
  "orig_nbformat": 4
 },
 "nbformat": 4,
 "nbformat_minor": 2
}
