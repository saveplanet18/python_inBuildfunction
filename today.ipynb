{
 "cells": [
  {
   "cell_type": "code",
   "execution_count": 8,
   "metadata": {},
   "outputs": [
    {
     "name": "stdout",
     "output_type": "stream",
     "text": [
      "[9, 18, 45, 36, 54, 81, 6, 63, 3]\n"
     ]
    }
   ],
   "source": [
    "def swapsingle(arr):\n",
    "    n = len(arr)\n",
    "    for i in range(0,n-1,2):\n",
    "        arr[i],arr[i+1] = arr[i+1],arr[i]\n",
    "    return arr\n",
    "if __name__ == \"__main__\":\n",
    "    arr = [18,9,36,45,81,54,63,6,3]\n",
    "    print(swapsingle(arr))"
   ]
  },
  {
   "cell_type": "code",
   "execution_count": 15,
   "metadata": {},
   "outputs": [
    {
     "name": "stdout",
     "output_type": "stream",
     "text": [
      "[3, 6, 9, 18, 36, 45, 54, 63, 81]\n"
     ]
    }
   ],
   "source": [
    "def Bubblesort(arr):\n",
    "    for i in range(len(arr)):\n",
    "        flag = True\n",
    "        for j in range(len(arr)-1,):\n",
    "            if arr[j] > arr[j+1]:\n",
    "                arr[j],arr[j+1] = arr[j+1],arr[j]\n",
    "        if flag == None:\n",
    "            return 0\n",
    "    return arr\n",
    "\n",
    "if __name__ == \"__main__\":\n",
    "    arr = [18,9,36,45,81,54,63,6,3]\n",
    "    print(Bubblesort(arr))"
   ]
  },
  {
   "cell_type": "code",
   "execution_count": 24,
   "metadata": {},
   "outputs": [
    {
     "name": "stdout",
     "output_type": "stream",
     "text": [
      "[3, 6, 9, 18, 36, 45, 54, 63, 81]\n"
     ]
    }
   ],
   "source": [
    "def selection_sort(arr):\n",
    "    for i in range(len(arr)):\n",
    "        min_idx = i\n",
    "        for j in range(i+1,len(arr)):\n",
    "            if (arr[j] < arr[min_idx]):\n",
    "                min_idx = j\n",
    "        if (i != min_idx):\n",
    "            arr[i],arr[min_idx] = arr[min_idx],arr[i]\n",
    "    return arr\n",
    "\n",
    "if __name__ == \"__main__\":\n",
    "    arr = [18,9,36,45,81,54,63,6,3]\n",
    "    print(selection_sort(arr))   "
   ]
  },
  {
   "cell_type": "code",
   "execution_count": 5,
   "metadata": {},
   "outputs": [
    {
     "name": "stdout",
     "output_type": "stream",
     "text": [
      "[3, 6, 9, 18, 36, 45, 54, 63, 81]\n"
     ]
    }
   ],
   "source": [
    "def Insertion_Sort(arr):\n",
    "    for i in range(len(arr)):\n",
    "        key = arr[i]\n",
    "        j = i - 1\n",
    "        while (j >= 0 and arr[j] > key):\n",
    "            arr[j+1] = arr[j]\n",
    "            j -= 1\n",
    "        arr[j+1] = key # return j\n",
    "    return arr\n",
    "if __name__ == \"__main__\":\n",
    "    arr = [18,9,36,45,81,54,63,6,3]\n",
    "    print(Insertion_Sort(arr))"
   ]
  },
  {
   "cell_type": "code",
   "execution_count": 13,
   "metadata": {},
   "outputs": [
    {
     "name": "stdout",
     "output_type": "stream",
     "text": [
      "[3, 6, 9, 18, 36, 45, 54, 63, 81]\n"
     ]
    }
   ],
   "source": [
    "def Merge_Sort(arr):\n",
    "    if len(arr) > 1:\n",
    "        mid = len(arr)// 2\n",
    "        Left = arr[:mid]\n",
    "        right = arr[mid:]\n",
    "        Merge_Sort(Left)\n",
    "        Merge_Sort(right)\n",
    "        i = j = k = 0\n",
    "        while (i < len(Left) and j < len(right)):\n",
    "            if Left[i] < right[j]:\n",
    "                arr[k] = Left[i]\n",
    "                i += 1\n",
    "            else:\n",
    "                arr[k] = right[j]\n",
    "                j += 1\n",
    "            k += 1\n",
    "        while (i < len(Left)):\n",
    "            arr[k] = Left[i]\n",
    "            i += 1\n",
    "            k += 1\n",
    "        while(j < len(right)):\n",
    "            arr[k] = right[j]\n",
    "            j += 1\n",
    "            k += 1\n",
    "        return arr\n",
    "    \n",
    "if __name__ == \"__main__\":\n",
    "    arr = [18,9,36,45,81,54,63,6,3]\n",
    "    print(Merge_Sort(arr))"
   ]
  },
  {
   "cell_type": "code",
   "execution_count": 15,
   "metadata": {},
   "outputs": [
    {
     "name": "stdout",
     "output_type": "stream",
     "text": [
      "[3, 6, 9, 18, 36]\n"
     ]
    }
   ],
   "source": [
    "def Partion_arr(arr,low,high):\n",
    "    pivot = arr[high]\n",
    "    i = low - 1\n",
    "    for j in range(low,high):\n",
    "        if arr[j] <= pivot:\n",
    "            i += 1\n",
    "            arr[i],arr[j] = arr[j],arr[i]\n",
    "    arr[i+1],arr[high] = arr[high],arr[i+1]\n",
    "    return i + 1\n",
    "\n",
    "def Quicksort(arr,low,high):\n",
    "    if (low < high):\n",
    "        pi = Partion_arr(arr,low,high)\n",
    "        Quicksort(arr,low,pi -1)\n",
    "        Quicksort(arr,pi + 1,high)\n",
    "    return arr\n",
    "    \n",
    "if __name__ == \"__main__\":\n",
    "    arr = [18,9,36,6,3]\n",
    "    print(Quicksort(arr,0,len(arr)-1))"
   ]
  },
  {
   "cell_type": "code",
   "execution_count": 27,
   "metadata": {},
   "outputs": [
    {
     "name": "stdout",
     "output_type": "stream",
     "text": [
      "[1, 1, 2, 2, 2, 3, 3, 4, 4, 4, 5, 5, 5, 5, 6, 6, 7, 7, 8, 8, 8, 9, 9]\n"
     ]
    }
   ],
   "source": [
    "def Count_sort(arr):\n",
    "    size = len(arr)\n",
    "    Result = [0] * (size +1)\n",
    "    Count_arr = [0] * 10\n",
    "    for i in range(0,size):\n",
    "        Count_arr[arr[i]] += 1\n",
    "    \n",
    "    for i in range(1,10):\n",
    "        Count_arr[i] += Count_arr[i-1]\n",
    "\n",
    "    i = size - 1\n",
    "    while (i >= 0):\n",
    "        Result[Count_arr[arr[i]] - 1] = arr[i]\n",
    "        Count_arr[arr[i]] -= 1\n",
    "        i -= 1\n",
    "    for i in range(0,size):\n",
    "        arr[i] = Result[i]\n",
    "    return arr\n",
    "\n",
    "if __name__ == \"__main__\":\n",
    "    arr = [8,7,4,5,3,2,5,8,6,9,5,2,4,1,3,6,9,2,5,8,1,4,7]\n",
    "    print(Count_sort(arr))"
   ]
  },
  {
   "cell_type": "code",
   "execution_count": 60,
   "metadata": {},
   "outputs": [
    {
     "name": "stdout",
     "output_type": "stream",
     "text": [
      "[5, 6, 8, 10, 14, 36, 36, 88, 90, 258]\n"
     ]
    }
   ],
   "source": [
    "def Count_sort_Radix(arr,place):\n",
    "    size = len(arr)\n",
    "    Result = [0] * (size+1)\n",
    "    Count_arr = [0] * 10\n",
    "    for i in range(0,size):\n",
    "        index = arr[i] // place\n",
    "        Count_arr[index % 10] += 1\n",
    "    \n",
    "    for i in range(1,10):\n",
    "        Count_arr[i] += Count_arr[i-1]\n",
    "    \n",
    "    i = size -1\n",
    "    while (i >= 0):\n",
    "        index = arr[i] // place\n",
    "        Result[Count_arr[index % 10] -1] = arr[i]\n",
    "        Count_arr[index % 10] -= 1\n",
    "        i -= 1\n",
    "    \n",
    "    for i in range(0,size):\n",
    "        arr[i] = Result[i]\n",
    "\n",
    "def Radix_Sort(arr):\n",
    "    max_element = max(arr)\n",
    "    place = 1\n",
    "    while max_element // place > 0:\n",
    "        Count_sort_Radix(arr,place)\n",
    "        place *= 10\n",
    "    return arr\n",
    "\n",
    "if __name__ == \"__main__\":\n",
    "    arr = [10,258,36,14,5,6,8,88,90,36]\n",
    "    place = 1\n",
    "    print(Radix_Sort(arr))"
   ]
  },
  {
   "cell_type": "code",
   "execution_count": 80,
   "metadata": {},
   "outputs": [
    {
     "name": "stdout",
     "output_type": "stream",
     "text": [
      "[0.01, 0.03, 0.1, 0.15, 0.32, 0.52, 0.6]\n"
     ]
    }
   ],
   "source": [
    "def Bucket_sort(arr):\n",
    "    arr_bucket = []\n",
    "    for i in range(len(arr)):\n",
    "        arr_bucket.append([])\n",
    "    for i in arr:\n",
    "        index = int(10*i)\n",
    "        arr_bucket[index].append(i)\n",
    "    \n",
    "    for i in range(len(arr)):\n",
    "        arr_bucket[i] = sorted(arr_bucket[i])\n",
    "    \n",
    "    k = 0\n",
    "    for i in range(len(arr)):\n",
    "        for j in range(len(arr_bucket[i])):\n",
    "            arr[k] = arr_bucket[i][j]\n",
    "            k += 1\n",
    "    return arr\n",
    "if __name__ == \"__main__\":\n",
    "    arr = [0.15,0.32,0.10,0.60,0.03,0.52,0.01]\n",
    "    print(Bucket_sort(arr))"
   ]
  },
  {
   "cell_type": "code",
   "execution_count": 95,
   "metadata": {},
   "outputs": [
    {
     "name": "stdout",
     "output_type": "stream",
     "text": [
      "[2, 3, 4, 5, 6, 6, 7, 8, 9]\n"
     ]
    }
   ],
   "source": [
    "def shellsort(arr):\n",
    "    n = len(arr)\n",
    "    gap = n // 2\n",
    "    while (gap > 0):\n",
    "        for i in range(gap,n):\n",
    "            temp = arr[i]\n",
    "            j = i\n",
    "            while (j >= gap and arr[j-gap] > temp):\n",
    "                arr[j] = arr[j-gap]\n",
    "                j -= gap\n",
    "            arr[j] = temp\n",
    "        gap //= 2\n",
    "    return arr\n",
    "if __name__ == \"__main__\":\n",
    "    arr = [8,4,5,6,9,3,6,2,7]\n",
    "    print(shellsort(arr))"
   ]
  },
  {
   "cell_type": "code",
   "execution_count": 99,
   "metadata": {},
   "outputs": [
    {
     "name": "stdout",
     "output_type": "stream",
     "text": [
      "4\n"
     ]
    }
   ],
   "source": [
    "def Linear_search(arr,search):\n",
    "    for i in range(len(arr)):\n",
    "        if arr[i] == search:\n",
    "            return i\n",
    "    return -1\n",
    "\n",
    "if __name__ == \"__main__\":\n",
    "    arr = [45,6,9,3,5,8,2,9,8,7]\n",
    "    print(Linear_search(arr,5))"
   ]
  },
  {
   "cell_type": "code",
   "execution_count": 100,
   "metadata": {},
   "outputs": [
    {
     "name": "stdout",
     "output_type": "stream",
     "text": [
      "2\n"
     ]
    }
   ],
   "source": [
    "def linear_search_whle(arr,target):\n",
    "    i = 0\n",
    "    while (i <len(arr)):\n",
    "        if arr[i] == target:\n",
    "            return i\n",
    "        i += 1\n",
    "    return -1\n",
    "if __name__ == \"__main__\":\n",
    "    arr = [45,6,9,3,5,8,2,9,8,7]\n",
    "    print(linear_search_whle(arr,9))"
   ]
  },
  {
   "cell_type": "code",
   "execution_count": 121,
   "metadata": {},
   "outputs": [
    {
     "name": "stdout",
     "output_type": "stream",
     "text": [
      "-1\n"
     ]
    }
   ],
   "source": [
    "def Binary_search(arr,target,low,high):\n",
    "    while (low <= high):\n",
    "        mid = low +(high - low) // 2\n",
    "        if arr[mid] == target:\n",
    "            return mid\n",
    "        elif arr[mid] < target:\n",
    "            low = mid + 1\n",
    "        else:\n",
    "            high = mid -1\n",
    "    return -1\n",
    "\n",
    "if __name__ == \"__main__\":\n",
    "    arr = [45,6,9,3,5,8,2,9,8,7]\n",
    "    print(Binary_search(arr,3,0,len(arr)-1))\n"
   ]
  },
  {
   "cell_type": "code",
   "execution_count": null,
   "metadata": {},
   "outputs": [],
   "source": []
  }
 ],
 "metadata": {
  "kernelspec": {
   "display_name": "base",
   "language": "python",
   "name": "python3"
  },
  "language_info": {
   "codemirror_mode": {
    "name": "ipython",
    "version": 3
   },
   "file_extension": ".py",
   "mimetype": "text/x-python",
   "name": "python",
   "nbconvert_exporter": "python",
   "pygments_lexer": "ipython3",
   "version": "3.10.9"
  },
  "orig_nbformat": 4
 },
 "nbformat": 4,
 "nbformat_minor": 2
}
