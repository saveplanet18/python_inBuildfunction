{
 "cells": [
  {
   "cell_type": "code",
   "execution_count": 1,
   "metadata": {},
   "outputs": [],
   "source": [
    "class Tree_Node(object):\n",
    "    def __init__(self,elements):\n",
    "        self.elements = elements\n",
    "        self.leftchild = None\n",
    "        self.Rightchild = None"
   ]
  },
  {
   "cell_type": "code",
   "execution_count": 2,
   "metadata": {},
   "outputs": [],
   "source": [
    "root = Tree_Node(108)\n",
    "root.leftchild = Tree_Node(45)\n",
    "root.Rightchild = Tree_Node(36)"
   ]
  },
  {
   "cell_type": "code",
   "execution_count": 3,
   "metadata": {},
   "outputs": [
    {
     "name": "stdout",
     "output_type": "stream",
     "text": [
      "108->45->36->"
     ]
    }
   ],
   "source": [
    "def Recursive_inorderTraversal(root):\n",
    "    if root:\n",
    "        print(str(root.elements) + '->' , end ='')\n",
    "        Recursive_inorderTraversal(root.leftchild)\n",
    "        Recursive_inorderTraversal(root.Rightchild)\n",
    "\n",
    "Recursive_inorderTraversal(root)\n"
   ]
  },
  {
   "cell_type": "code",
   "execution_count": 1,
   "metadata": {},
   "outputs": [
    {
     "name": "stdout",
     "output_type": "stream",
     "text": [
      "Selected user: 2\n",
      "Selected user: 2\n",
      "Selected user: 3\n",
      "Selected user: 1\n",
      "Selected user: 1\n",
      "Selected user: 3\n",
      "Selected user: 3\n",
      "Selected user: 3\n",
      "Selected user: 2\n",
      "Selected user: 3\n"
     ]
    }
   ],
   "source": [
    "import random\n",
    "\n",
    "# Define a list of users with their respective coin balances\n",
    "users = [{'id': 1, 'balance': 100}, {'id': 2, 'balance': 50}, {'id': 3, 'balance': 200}]\n",
    "\n",
    "# Define a function to generate a random number between 0 and 1\n",
    "def generate_random():\n",
    "    return random.random()\n",
    "\n",
    "# Define a function to calculate the user's chance of being selected\n",
    "def calculate_chance(user):\n",
    "    total_balance = sum([u['balance'] for u in users])\n",
    "    return user['balance'] / total_balance\n",
    "\n",
    "# Define a function to select a user based on their chance\n",
    "def select_user():\n",
    "    random_number = generate_random()\n",
    "    cumulative_chance = 0\n",
    "    for user in users:\n",
    "        user_chance = calculate_chance(user)\n",
    "        cumulative_chance += user_chance\n",
    "        if cumulative_chance > random_number:\n",
    "            return user\n",
    "    return None\n",
    "\n",
    "# Simulate the selection of 10 users\n",
    "for i in range(10):\n",
    "    selected_user = select_user()\n",
    "    print(f\"Selected user: {selected_user['id']}\")\n",
    "\n",
    "    "
   ]
  },
  {
   "cell_type": "code",
   "execution_count": null,
   "metadata": {},
   "outputs": [],
   "source": []
  }
 ],
 "metadata": {
  "kernelspec": {
   "display_name": "base",
   "language": "python",
   "name": "python3"
  },
  "language_info": {
   "codemirror_mode": {
    "name": "ipython",
    "version": 3
   },
   "file_extension": ".py",
   "mimetype": "text/x-python",
   "name": "python",
   "nbconvert_exporter": "python",
   "pygments_lexer": "ipython3",
   "version": "3.8.8"
  },
  "orig_nbformat": 4,
  "vscode": {
   "interpreter": {
    "hash": "82adaca09b26f941339d497ab109b3479f090966e110972cd932eac4ae78641a"
   }
  }
 },
 "nbformat": 4,
 "nbformat_minor": 2
}
